{
  "nbformat": 4,
  "nbformat_minor": 0,
  "metadata": {
    "colab": {
      "provenance": [],
      "toc_visible": true,
      "authorship_tag": "ABX9TyNvaOwkCTQC7SPCU0gP5v4m",
      "include_colab_link": true
    },
    "kernelspec": {
      "name": "python3",
      "display_name": "Python 3"
    },
    "language_info": {
      "name": "python"
    }
  },
  "cells": [
    {
      "cell_type": "markdown",
      "metadata": {
        "id": "view-in-github",
        "colab_type": "text"
      },
      "source": [
        "<a href=\"https://colab.research.google.com/github/Vany2002/pythonProject1/blob/master/Pr10.ipynb\" target=\"_parent\"><img src=\"https://colab.research.google.com/assets/colab-badge.svg\" alt=\"Open In Colab\"/></a>"
      ]
    },
    {
      "cell_type": "code",
      "execution_count": null,
      "metadata": {
        "colab": {
          "base_uri": "https://localhost:8080/"
        },
        "id": "ii3mVdrXqCwY",
        "outputId": "a2c4bea4-7c4b-4f92-8bb3-b5d5d9a94343"
      },
      "outputs": [
        {
          "output_type": "stream",
          "name": "stdout",
          "text": [
            "Img's shape:  (833, 1200, 3)\n",
            "New shape (img_r):  (999600, 3)\n",
            "Compressed image's shape:  (833, 1200, 3)\n"
          ]
        }
      ],
      "source": [
        "#@title Текст заголовка по умолчанию\n",
        "from sklearn.cluster import KMeans\n",
        "import cv2\n",
        "import numpy as np\n",
        "import imutils\n",
        "img = cv2.imread('111.jpg') # Вводим исходное изображение\n",
        "print(\"Img's shape: \", img.shape) # Выводим параметры начального изображения\n",
        "img_r = (img / 255.0).reshape(-1,3) # Нормализуем изображение\n",
        "print(\"New shape (img_r): \", img_r.shape) # Выводим параметры нормализованного изображения\n",
        "k_colors = KMeans(n_clusters=4).fit(img_r) # Устанавливаем необходимое количество цветов и запускаем процесс обучения (кластеризации пикселей по группам)\n",
        "imgC = k_colors.cluster_centers_[k_colors.labels_]\n",
        "imgC = (np.reshape(imgC, (img.shape))*255).astype(np.uint8) # Возвращаем изображению исходные параметры\n",
        "print(\"Compressed image's shape: \", imgC.shape)\n",
        "cv2.imshow(\"Original image\", imutils.resize(img, width=800)) # выводим исходное изображение\n",
        "cv2.imshow(\"Compressed image\", imutils.resize(imgC, width=800)) # выводим сжатое изображение\n",
        "cv2.waitKey(0)\n",
        "cv2.imwrite('Compressed.jpg', imgC) # сохранение сжатого изображения"
      ]
    },
    {
      "cell_type": "code",
      "source": [
        "import numpy as np\n",
        "import matplotlib\n",
        "from PIL import Image\n",
        "\n",
        "def kmeans(Input,K,Max_iters):\n",
        "    \n",
        "    N,D = np.shape(Input)\n",
        "    R = np.random.permutation(N)\n",
        "    Kvec = Input[R[0:K],:]\n",
        "    Distance = np.zeros((N,K))\n",
        "    \n",
        "    for nn in range(0,Max_iters):\n",
        "        F = np.zeros((N,K))\n",
        "        for kk in range(0,K):\n",
        "            Distance[:,kk] = np.sum( np.square(Input - np.tile( Kvec[kk,:], \n",
        "(N,1)),dtype=np.float64),axis=1 )\n",
        "        Dmin = Distance.argmin(axis=1) % Distance.shape[1]\n",
        "        for mm in range(0,K):\n",
        "            if np.size(Dmin[mm==Dmin]) >0:\n",
        "                Kvec[mm,:] = np.mean(Input[mm==Dmin],axis=0)\n",
        "        for ii in range(0,N):\n",
        "            F[ii,Dmin[ii]] = 1\n",
        "        error = sum(sum((F*Distance)/N))\n",
        "        print('Error = ' + str(error))\n",
        "    return Kvec,Dmin\n",
        "\n",
        "\n",
        "Datain = np.asarray(Image.open('input.jpeg'),dtype=np.float64)\n",
        "\n",
        "ReshapedData = np.reshape(Datain, (np.size(Datain,0) * \n",
        "np.size(Datain,1),np.size(Datain,2)))\n",
        "\n",
        "K = 10 # устанавливаем количество цветов\n",
        "Max_iters = 15 # устанавливаем количество итераций, чем больше итераций, тем тщательнее будет осуществляться кластеризация и тем дольше будет работать программа\n",
        "\n",
        "Kvec,Dmin = kmeans(ReshapedData,K,Max_iters)\n",
        "\n",
        "Dvec = np.zeros((len(Dmin),len(Kvec[0,:])))\n",
        "\n",
        "for jj in range(0,K):\n",
        "    Dvec[jj==Dmin,:] = Kvec[jj,:]\n",
        "\n",
        "imout = np.reshape(np.uint8(Dvec), \n",
        "(np.size(Datain,0),np.size(Datain,1),len(Kvec[0,:])))\n",
        "\n",
        "im = Image.fromarray(imout,'RGB')\n",
        "im.show()\n",
        "im.save('output.jpeg')"
      ],
      "metadata": {
        "colab": {
          "base_uri": "https://localhost:8080/",
          "height": 356
        },
        "id": "z7Gl20M1zBAM",
        "outputId": "77cdd6d9-d703-40c9-c385-11046a085cd1"
      },
      "execution_count": null,
      "outputs": [
        {
          "output_type": "error",
          "ename": "FileNotFoundError",
          "evalue": "ignored",
          "traceback": [
            "\u001b[0;31m---------------------------------------------------------------------------\u001b[0m",
            "\u001b[0;31mFileNotFoundError\u001b[0m                         Traceback (most recent call last)",
            "\u001b[0;32m<ipython-input-10-20f01874ecd0>\u001b[0m in \u001b[0;36m<module>\u001b[0;34m\u001b[0m\n\u001b[1;32m     26\u001b[0m \u001b[0;34m\u001b[0m\u001b[0m\n\u001b[1;32m     27\u001b[0m \u001b[0;34m\u001b[0m\u001b[0m\n\u001b[0;32m---> 28\u001b[0;31m \u001b[0mDatain\u001b[0m \u001b[0;34m=\u001b[0m \u001b[0mnp\u001b[0m\u001b[0;34m.\u001b[0m\u001b[0masarray\u001b[0m\u001b[0;34m(\u001b[0m\u001b[0mImage\u001b[0m\u001b[0;34m.\u001b[0m\u001b[0mopen\u001b[0m\u001b[0;34m(\u001b[0m\u001b[0;34m'input.jpeg'\u001b[0m\u001b[0;34m)\u001b[0m\u001b[0;34m,\u001b[0m\u001b[0mdtype\u001b[0m\u001b[0;34m=\u001b[0m\u001b[0mnp\u001b[0m\u001b[0;34m.\u001b[0m\u001b[0mfloat64\u001b[0m\u001b[0;34m)\u001b[0m\u001b[0;34m\u001b[0m\u001b[0;34m\u001b[0m\u001b[0m\n\u001b[0m\u001b[1;32m     29\u001b[0m \u001b[0;34m\u001b[0m\u001b[0m\n\u001b[1;32m     30\u001b[0m ReshapedData = np.reshape(Datain, (np.size(Datain,0) * \n",
            "\u001b[0;32m/usr/local/lib/python3.8/dist-packages/PIL/Image.py\u001b[0m in \u001b[0;36mopen\u001b[0;34m(fp, mode)\u001b[0m\n\u001b[1;32m   2841\u001b[0m \u001b[0;34m\u001b[0m\u001b[0m\n\u001b[1;32m   2842\u001b[0m     \u001b[0;32mif\u001b[0m \u001b[0mfilename\u001b[0m\u001b[0;34m:\u001b[0m\u001b[0;34m\u001b[0m\u001b[0;34m\u001b[0m\u001b[0m\n\u001b[0;32m-> 2843\u001b[0;31m         \u001b[0mfp\u001b[0m \u001b[0;34m=\u001b[0m \u001b[0mbuiltins\u001b[0m\u001b[0;34m.\u001b[0m\u001b[0mopen\u001b[0m\u001b[0;34m(\u001b[0m\u001b[0mfilename\u001b[0m\u001b[0;34m,\u001b[0m \u001b[0;34m\"rb\"\u001b[0m\u001b[0;34m)\u001b[0m\u001b[0;34m\u001b[0m\u001b[0;34m\u001b[0m\u001b[0m\n\u001b[0m\u001b[1;32m   2844\u001b[0m         \u001b[0mexclusive_fp\u001b[0m \u001b[0;34m=\u001b[0m \u001b[0;32mTrue\u001b[0m\u001b[0;34m\u001b[0m\u001b[0;34m\u001b[0m\u001b[0m\n\u001b[1;32m   2845\u001b[0m \u001b[0;34m\u001b[0m\u001b[0m\n",
            "\u001b[0;31mFileNotFoundError\u001b[0m: [Errno 2] No such file or directory: 'input.jpeg'"
          ]
        }
      ]
    }
  ]
}