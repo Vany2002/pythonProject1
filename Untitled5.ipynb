{
  "nbformat": 4,
  "nbformat_minor": 0,
  "metadata": {
    "colab": {
      "provenance": [],
      "authorship_tag": "ABX9TyOJkE6SU/BO1W6xYfDnFatr",
      "include_colab_link": true
    },
    "kernelspec": {
      "name": "python3",
      "display_name": "Python 3"
    },
    "language_info": {
      "name": "python"
    }
  },
  "cells": [
    {
      "cell_type": "markdown",
      "metadata": {
        "id": "view-in-github",
        "colab_type": "text"
      },
      "source": [
        "<a href=\"https://colab.research.google.com/github/Vany2002/pythonProject1/blob/master/Untitled5.ipynb\" target=\"_parent\"><img src=\"https://colab.research.google.com/assets/colab-badge.svg\" alt=\"Open In Colab\"/></a>"
      ]
    },
    {
      "cell_type": "code",
      "execution_count": 31,
      "metadata": {
        "colab": {
          "base_uri": "https://localhost:8080/",
          "height": 258
        },
        "id": "aBj24O5qaby9",
        "outputId": "efc9a887-d665-4e8a-c314-4bad14cc16e3"
      },
      "outputs": [
        {
          "output_type": "error",
          "ename": "NameError",
          "evalue": "ignored",
          "traceback": [
            "\u001b[0;31m---------------------------------------------------------------------------\u001b[0m",
            "\u001b[0;31mNameError\u001b[0m                                 Traceback (most recent call last)",
            "\u001b[0;32m<ipython-input-31-947a71b6be5f>\u001b[0m in \u001b[0;36m<cell line: 17>\u001b[0;34m()\u001b[0m\n\u001b[1;32m     15\u001b[0m \u001b[0mcv2\u001b[0m\u001b[0;34m.\u001b[0m\u001b[0mimwrite\u001b[0m\u001b[0;34m(\u001b[0m\u001b[0;34m'result_1.jpg'\u001b[0m\u001b[0;34m,\u001b[0m\u001b[0mimg_rst\u001b[0m\u001b[0;34m)\u001b[0m\u001b[0;34m\u001b[0m\u001b[0;34m\u001b[0m\u001b[0m\n\u001b[1;32m     16\u001b[0m \u001b[0;34m\u001b[0m\u001b[0m\n\u001b[0;32m---> 17\u001b[0;31m \u001b[0mHori\u001b[0m \u001b[0;34m=\u001b[0m \u001b[0mnp\u001b[0m\u001b[0;34m.\u001b[0m\u001b[0mconcatenate\u001b[0m\u001b[0;34m(\u001b[0m\u001b[0;34m(\u001b[0m\u001b[0mresult_1\u001b[0m \u001b[0;34m,\u001b[0m \u001b[0mp_1\u001b[0m\u001b[0;34m)\u001b[0m\u001b[0;34m,\u001b[0m \u001b[0maxis\u001b[0m\u001b[0;34m=\u001b[0m\u001b[0;36m1\u001b[0m\u001b[0;34m)\u001b[0m\u001b[0;34m\u001b[0m\u001b[0;34m\u001b[0m\u001b[0m\n\u001b[0m\u001b[1;32m     18\u001b[0m \u001b[0;34m\u001b[0m\u001b[0m\n\u001b[1;32m     19\u001b[0m \u001b[0mcv2_imshow\u001b[0m\u001b[0;34m(\u001b[0m\u001b[0mHori\u001b[0m\u001b[0;34m)\u001b[0m\u001b[0;34m\u001b[0m\u001b[0;34m\u001b[0m\u001b[0m\n",
            "\u001b[0;31mNameError\u001b[0m: name 'result_1' is not defined"
          ]
        }
      ],
      "source": [
        "import numpy as np\n",
        "import cv2\n",
        "# чтение изображения\n",
        "img_src = cv2.imread('p_1.jpg') # вместо 'sample.jpg' введите имя вашего\n",
        "# подготовка фильтра в виде матрицы 5х5\n",
        "kernel = np.array([[1, 1, 1, 1, 1],\n",
        " [1, 1, 1, 1, 1],\n",
        " [1, 1, 1, 1, 1],\n",
        " [1, 1, 1, 1, 1],\n",
        " [1, 1, 1, 1, 1]])\n",
        "kernel = kernel/(np.sum(kernel) if np.sum(kernel)!=0 else 1) # нормализация\n",
        "#фильтрация исходного изображения\n",
        "img_rst = cv2.filter2D(img_src,-1,kernel)\n",
        "#сохранение конечного изображения\n",
        "cv2.imwrite('result_1.jpg',img_rst)\n",
        "\n",
        "Hori = np.concatenate((result_1, p_1), axis=1)\n",
        "\n",
        "cv2_imshow(Verti)"
      ]
    },
    {
      "cell_type": "code",
      "source": [
        "from google.colab import drive\n",
        "drive.mount('/content/drive')"
      ],
      "metadata": {
        "id": "DfYNiciJdDQ7"
      },
      "execution_count": null,
      "outputs": []
    },
    {
      "cell_type": "code",
      "source": [
        "import numpy as np\n",
        "import cv2\n",
        "# чтение изображения\n",
        "img_src = cv2.imread('5.jpg')\n",
        "# подготовка фильтра в виде матрицы 3х3\n",
        "kernel = np.array([[0.0, -1.0, 0.0],\n",
        " [-1.0, 4.0, -1.0],\n",
        " [0.0, -1.0, 0.0]])\n",
        "kernel = kernel/(np.sum(kernel) if np.sum(kernel)!=0 else 1)\n",
        "#фильтрация исходного изображения\n",
        "img_rst = cv2.filter2D(img_src,-1,kernel)\n",
        "#сохранение конечного изображения\n",
        "cv2.imwrite('res5.jpg',img_rst)"
      ],
      "metadata": {
        "colab": {
          "base_uri": "https://localhost:8080/"
        },
        "id": "LQEDf7TxcBea",
        "outputId": "fb15301f-5bfc-42e5-c60c-57e6011ef2ae"
      },
      "execution_count": null,
      "outputs": [
        {
          "output_type": "execute_result",
          "data": {
            "text/plain": [
              "True"
            ]
          },
          "metadata": {},
          "execution_count": 18
        }
      ]
    },
    {
      "cell_type": "code",
      "source": [
        "Hori = np.concatenate((result_1, p_1), axis=1)\n",
        "cv2_imshow(Verti)"
      ],
      "metadata": {
        "id": "c-cIFknIeINz",
        "colab": {
          "base_uri": "https://localhost:8080/",
          "height": 203
        },
        "outputId": "47965b1f-74a1-4812-d681-fcd72b7bbc3e"
      },
      "execution_count": 25,
      "outputs": [
        {
          "output_type": "error",
          "ename": "NameError",
          "evalue": "ignored",
          "traceback": [
            "\u001b[0;31m---------------------------------------------------------------------------\u001b[0m",
            "\u001b[0;31mNameError\u001b[0m                                 Traceback (most recent call last)",
            "\u001b[0;32m<ipython-input-25-aad393d96f16>\u001b[0m in \u001b[0;36m<cell line: 1>\u001b[0;34m()\u001b[0m\n\u001b[0;32m----> 1\u001b[0;31m \u001b[0mHori\u001b[0m \u001b[0;34m=\u001b[0m \u001b[0mnp\u001b[0m\u001b[0;34m.\u001b[0m\u001b[0mconcatenate\u001b[0m\u001b[0;34m(\u001b[0m\u001b[0;34m(\u001b[0m\u001b[0mresult_1\u001b[0m\u001b[0;34m,\u001b[0m \u001b[0mp_1\u001b[0m\u001b[0;34m)\u001b[0m\u001b[0;34m,\u001b[0m \u001b[0maxis\u001b[0m\u001b[0;34m=\u001b[0m\u001b[0;36m1\u001b[0m\u001b[0;34m)\u001b[0m\u001b[0;34m\u001b[0m\u001b[0;34m\u001b[0m\u001b[0m\n\u001b[0m\u001b[1;32m      2\u001b[0m \u001b[0mcv2_imshow\u001b[0m\u001b[0;34m(\u001b[0m\u001b[0mVerti\u001b[0m\u001b[0;34m)\u001b[0m\u001b[0;34m\u001b[0m\u001b[0;34m\u001b[0m\u001b[0m\n",
            "\u001b[0;31mNameError\u001b[0m: name 'result_1' is not defined"
          ]
        }
      ]
    }
  ]
}