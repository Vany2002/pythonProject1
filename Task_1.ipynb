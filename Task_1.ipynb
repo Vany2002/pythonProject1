{
  "nbformat": 4,
  "nbformat_minor": 0,
  "metadata": {
    "colab": {
      "provenance": [],
      "toc_visible": true,
      "authorship_tag": "ABX9TyNssUHZK+wYkXnEoKjQU5sb",
      "include_colab_link": true
    },
    "kernelspec": {
      "name": "python3",
      "display_name": "Python 3"
    },
    "language_info": {
      "name": "python"
    }
  },
  "cells": [
    {
      "cell_type": "markdown",
      "metadata": {
        "id": "view-in-github",
        "colab_type": "text"
      },
      "source": [
        "<a href=\"https://colab.research.google.com/github/Vany2002/pythonProject1/blob/master/Task_1.ipynb\" target=\"_parent\"><img src=\"https://colab.research.google.com/assets/colab-badge.svg\" alt=\"Open In Colab\"/></a>"
      ]
    },
    {
      "cell_type": "code",
      "execution_count": 9,
      "metadata": {
        "colab": {
          "base_uri": "https://localhost:8080/"
        },
        "id": "ii3mVdrXqCwY",
        "outputId": "a2c4bea4-7c4b-4f92-8bb3-b5d5d9a94343"
      },
      "outputs": [
        {
          "output_type": "stream",
          "name": "stdout",
          "text": [
            "Img's shape:  (833, 1200, 3)\n",
            "New shape (img_r):  (999600, 3)\n",
            "Compressed image's shape:  (833, 1200, 3)\n"
          ]
        }
      ],
      "source": [
        "#@title Текст заголовка по умолчанию\n",
        "from sklearn.cluster import KMeans\n",
        "import cv2\n",
        "import numpy as np\n",
        "import imutils\n",
        "img = cv2.imread('111.jpg') # Вводим исходное изображение\n",
        "print(\"Img's shape: \", img.shape) # Выводим параметры начального изображения\n",
        "img_r = (img / 255.0).reshape(-1,3) # Нормализуем изображение\n",
        "print(\"New shape (img_r): \", img_r.shape) # Выводим параметры нормализованного изображения\n",
        "k_colors = KMeans(n_clusters=4).fit(img_r) # Устанавливаем необходимое количество цветов и запускаем процесс обучения (кластеризации пикселей по группам)\n",
        "imgC = k_colors.cluster_centers_[k_colors.labels_]\n",
        "imgC = (np.reshape(imgC, (img.shape))*255).astype(np.uint8) # Возвращаем изображению исходные параметры\n",
        "print(\"Compressed image's shape: \", imgC.shape)\n",
        "cv2.imshow(\"Original image\", imutils.resize(img, width=800)) # выводим исходное изображение\n",
        "cv2.imshow(\"Compressed image\", imutils.resize(imgC, width=800)) # выводим сжатое изображение\n",
        "cv2.waitKey(0)\n",
        "cv2.imwrite('Compressed.jpg', imgC) # сохранение сжатого изображения"
      ]
    }
  ]
}